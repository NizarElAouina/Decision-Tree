{
 "cells": [
  {
   "cell_type": "code",
   "execution_count": 98,
   "id": "96316b72",
   "metadata": {},
   "outputs": [],
   "source": [
    "import numpy as np\n",
    "import matplotlib.pyplot as plt\n",
    "import pandas\n",
    "from sklearn.tree import DecisionTreeClassifier"
   ]
  },
  {
   "cell_type": "code",
   "execution_count": 97,
   "id": "29920330",
   "metadata": {},
   "outputs": [],
   "source": [
    "data=pandas.read_csv(\"C:/Users/nizar/Desktop/S2/Machine Learning/TD1/dataset.csv\").values\n",
    "data\n",
    "clf=DecisionTreeClassifier()\n",
    "x=data[0:2100,1:]\n",
    "label=data[0:2100,0]"
   ]
  },
  {
   "cell_type": "code",
   "execution_count": 99,
   "id": "c14c4b54",
   "metadata": {},
   "outputs": [],
   "source": [
    "clf.fit(x,label)\n",
    "xtest=data[2100:,1:]\n",
    "actual_label=data[2100:,0]\n",
    "p=clf.predict(xtest)"
   ]
  },
  {
   "cell_type": "code",
   "execution_count": 100,
   "id": "6786bc93",
   "metadata": {},
   "outputs": [
    {
     "data": {
      "text/plain": [
       "(459, 784)"
      ]
     },
     "execution_count": 100,
     "metadata": {},
     "output_type": "execute_result"
    }
   ],
   "source": [
    "xtest.shape"
   ]
  },
  {
   "cell_type": "code",
   "execution_count": 101,
   "id": "89919c44",
   "metadata": {
    "scrolled": true
   },
   "outputs": [
    {
     "name": "stdout",
     "output_type": "stream",
     "text": [
      "Accuracy= 76.47058823529412\n"
     ]
    }
   ],
   "source": [
    "count=0\n",
    "for i in range(0,459):\n",
    "    count+=1 if p[i]==actual_label[i] else 0\n",
    "print(\"Accuracy=\",(count/459)*100)"
   ]
  },
  {
   "cell_type": "code",
   "execution_count": 109,
   "id": "631129c2",
   "metadata": {},
   "outputs": [],
   "source": [
    "d=xtest[1]"
   ]
  },
  {
   "cell_type": "code",
   "execution_count": 110,
   "id": "2ad97b09",
   "metadata": {},
   "outputs": [
    {
     "name": "stdout",
     "output_type": "stream",
     "text": [
      "[3]\n"
     ]
    }
   ],
   "source": [
    "Nombre_de_pixels_errones=100\n",
    "for i in range(Nombre_de_pixels_errones):\n",
    "    position=np.random.randint(0,784,1)[0]\n",
    "    bruit=np.random.randint(-200,200,1)[0]\n",
    "    d[position]+=bruit\n",
    "    d[position]=d[position]%255\n",
    "print(clf.predict([d]))"
   ]
  },
  {
   "cell_type": "code",
   "execution_count": 111,
   "id": "a42ec1ce",
   "metadata": {},
   "outputs": [
    {
     "data": {
      "image/png": "[encoded data removed]",
      "text/plain": [
       "<Figure size 640x480 with 1 Axes>"
      ]
     },
     "metadata": {},
     "output_type": "display_data"
    }
   ],
   "source": [
    "d.shape=(28,28)\n",
    "plt.imshow(255-d,cmap='gray')\n",
    "plt.show()"
   ]
  },
  {
   "cell_type": "code",
   "execution_count": null,
   "id": "8b76735e",
   "metadata": {},
   "outputs": [],
   "source": []
  }
 ],
 "metadata": {
  "kernelspec": {
   "display_name": "Python 3 (ipykernel)",
   "language": "python",
   "name": "python3"
  },
  "language_info": {
   "codemirror_mode": {
    "name": "ipython",
    "version": 3
   },
   "file_extension": ".py",
   "mimetype": "text/x-python",
   "name": "python",
   "nbconvert_exporter": "python",
   "pygments_lexer": "ipython3",
   "version": "3.9.13"
  }
 },
 "nbformat": 4,
 "nbformat_minor": 5
}
